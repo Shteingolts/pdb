{
 "cells": [
  {
   "cell_type": "markdown",
   "metadata": {},
   "source": [
    "# Things that do not cause problem with coordinates\n",
    "# 1. Opening and saving the structure\n",
    "# 2. Getting hetero_residues\n",
    "# 3. Initializing an instance of StructureGraph class\n",
    "# 4. Creating a graph with .create_graph() method\n",
    "# 5. Getting cluster of closely located residues with get_clusters() method\n",
    "# 6. Combining a cluster into single reidues with combine() function\n",
    "# 7. Filtering according to known criteria (num_atoms, mol_weight)\n",
    "# 8. Creating structure objects from residues with resi_to_struct function\n",
    "# 9. Saving structure object with save_ligand_fo_file() function\n",
    "\n",
    "# so far, was not able to replicate problem"
   ]
  },
  {
   "cell_type": "code",
   "execution_count": 1,
   "metadata": {},
   "outputs": [
    {
     "name": "stderr",
     "output_type": "stream",
     "text": [
      "/home/sergey/miniconda3/lib/python3.9/site-packages/scipy/__init__.py:146: UserWarning: A NumPy version >=1.16.5 and <1.23.0 is required for this version of SciPy (detected version 1.23.1\n",
      "  warnings.warn(f\"A NumPy version >={np_minversion} and <{np_maxversion}\"\n"
     ]
    },
    {
     "name": "stdout",
     "output_type": "stream",
     "text": [
      "Running on Linux.\n",
      "\n"
     ]
    },
    {
     "data": {
      "application/vnd.jupyter.widget-view+json": {
       "model_id": "e48016bb336c407eb37ce3345d0bd400",
       "version_major": 2,
       "version_minor": 0
      },
      "text/plain": []
     },
     "metadata": {},
     "output_type": "display_data"
    },
    {
     "name": "stdout",
     "output_type": "stream",
     "text": [
      "Running on Linux.\n",
      "\n"
     ]
    }
   ],
   "source": [
    "import process\n",
    "import pocket_search as ps\n",
    "import importlib\n",
    "import nglview\n",
    "import Bio\n",
    "from Bio.PDB import PDBParser\n",
    "import os\n",
    "importlib.reload(ps)\n",
    "importlib.reload(process)\n",
    "file = '/mnt/c/users/serge/desktop/example/pdb2r09.ent'"
   ]
  },
  {
   "cell_type": "code",
   "execution_count": 2,
   "metadata": {},
   "outputs": [
    {
     "name": "stdout",
     "output_type": "stream",
     "text": [
      "Structure 2r09 was loaded from /mnt/c/users/serge/desktop/pdb_download/pdb/r0/pdb2r09.ent\n"
     ]
    }
   ],
   "source": [
    "structure = process.get_structure('2r09', process.PDB_PATH, debug=True) # 14 26"
   ]
  },
  {
   "cell_type": "code",
   "execution_count": 3,
   "metadata": {},
   "outputs": [],
   "source": [
    "hetero_residues = process.get_hetero_residues(structure)\n",
    "structure_graph = process.StructureGraph(hetero_residues)\n",
    "structure_graph.create_graph()\n",
    "structure_graph.get_clusters()\n",
    "residue1 = structure_graph.get_clusters()[13]\n",
    "residue2 = structure_graph.get_clusters()[24]\n",
    "\n",
    "residue1 = process.combine(residue1)\n",
    "residue2 = process.combine(residue2)\n",
    "\n",
    "ligand1 = process.filter([residue1])[0]\n",
    "ligand2 = process.filter([residue2])[0]\n",
    "\n",
    "ligand1_struct = process.resi_to_struct(ligand1, structure)\n",
    "ligand2_struct = process.resi_to_struct(ligand2, structure)\n",
    "\n",
    "process.save_ligand_to_file([ligand1_struct, ligand2_struct], process.OUT_PATH, structure)\n",
    "\n"
   ]
  },
  {
   "cell_type": "code",
   "execution_count": 4,
   "metadata": {},
   "outputs": [
    {
     "name": "stdout",
     "output_type": "stream",
     "text": [
      "***** POCKET HUNTING BEGINS ***** \n",
      "***** POCKET HUNTING ENDS ***** \n",
      "/mnt/c/users/serge/desktop/2r09_out/2r09_info.txt\n"
     ]
    }
   ],
   "source": [
    "cleaned_pdb = ps.clean_pdb(file, process.OUT_PATH)\n",
    "fpocket_dir = ps.fpocket(cleaned_pdb)\n",
    "barycenters = ps.get_centers(fpocket_dir)\n",
    "pockets: list = ps.get_pockets(fpocket_dir, num_pockets_threshold=100)\n",
    "\n"
   ]
  },
  {
   "cell_type": "code",
   "execution_count": 5,
   "metadata": {},
   "outputs": [],
   "source": [
    "ps.write_bat(cleaned_pdb, fpocket_dir)"
   ]
  },
  {
   "cell_type": "code",
   "execution_count": 6,
   "metadata": {},
   "outputs": [
    {
     "name": "stdout",
     "output_type": "stream",
     "text": [
      "d(H_4IP : Pocket(number=43, score=-0.127, center=(77.81276658747174, 85.71096824477024, 26.90205528191459))) = 1.0065443224660982\n",
      "d(H_4IP : Pocket(number=34, score=-0.084, center=(22.02070629678556, 78.02792671573255, -2.33535119833931))) = 1.3021322460175173\n"
     ]
    }
   ],
   "source": [
    "ligand_structures = [ligand1, ligand2]\n",
    "filtered_ligands: list = []\n",
    "for ligand in ligand_structures:\n",
    "    for pocket in pockets:\n",
    "        if process.get_distance_to_pocket(ligand, pocket) < 6:\n",
    "            print(f\"d({ligand.id[0]} : {pocket}) = {process.get_distance_to_pocket(ligand, pocket)}\")\n",
    "\n"
   ]
  }
 ],
 "metadata": {
  "kernelspec": {
   "display_name": "Python 3.9.12 ('base')",
   "language": "python",
   "name": "python3"
  },
  "language_info": {
   "codemirror_mode": {
    "name": "ipython",
    "version": 3
   },
   "file_extension": ".py",
   "mimetype": "text/x-python",
   "name": "python",
   "nbconvert_exporter": "python",
   "pygments_lexer": "ipython3",
   "version": "3.9.12"
  },
  "orig_nbformat": 4,
  "vscode": {
   "interpreter": {
    "hash": "990a811f332a85f0b2667e75424685628e318911652ff13fb22a3ac50743964b"
   }
  }
 },
 "nbformat": 4,
 "nbformat_minor": 2
}
