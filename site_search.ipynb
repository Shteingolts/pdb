{
 "cells": [
  {
   "cell_type": "code",
   "execution_count": 47,
   "metadata": {},
   "outputs": [
    {
     "name": "stdout",
     "output_type": "stream",
     "text": [
      "Running on Linux.\n",
      "\n"
     ]
    }
   ],
   "source": [
    "import process\n",
    "import pocket_search as ps\n",
    "import nglview\n",
    "import Bio\n",
    "import importlib\n",
    "importlib.reload(process)\n",
    "from Bio.PDB import PDBParser\n",
    "import os\n",
    "file = "
   ]
  },
  {
   "cell_type": "code",
   "execution_count": 49,
   "metadata": {},
   "outputs": [
    {
     "name": "stdout",
     "output_type": "stream",
     "text": [
      "Structure 1m2z was loaded from /mnt/c/users/serge/desktop/pdb_download/pdb/m2/pdb1m2z.ent\n"
     ]
    }
   ],
   "source": [
    "structure = process.get_structure('1m2z', process.PDB_PATH, debug=True) \n",
    "hetero_residues = process.get_hetero_residues(structure)\n",
    "structure_graph = process.StructureGraph(hetero_residues)\n",
    "structure_graph.create_graph(distance_threshold=2)\n",
    "clusters = structure_graph.get_clusters()\n",
    "\n",
    "residues = []\n",
    "for cluster in clusters:\n",
    "    residues.append(process.combine(cluster))\n",
    "\n",
    "ligands = process.filter_ligands(residues, mol_weight=200, num_atoms=10)\n",
    "\n",
    "ligand_structures = [process.resi_to_struct(ligand, structure) for ligand in ligands]\n",
    "\n",
    "process.save_ligand_to_file(ligand_structures, process.OUT_PATH, structure)\n"
   ]
  }
 ],
 "metadata": {
  "kernelspec": {
   "display_name": "Python 3.9.12 ('base')",
   "language": "python",
   "name": "python3"
  },
  "language_info": {
   "codemirror_mode": {
    "name": "ipython",
    "version": 3
   },
   "file_extension": ".py",
   "mimetype": "text/x-python",
   "name": "python",
   "nbconvert_exporter": "python",
   "pygments_lexer": "ipython3",
   "version": "3.9.13"
  },
  "orig_nbformat": 4,
  "vscode": {
   "interpreter": {
    "hash": "990a811f332a85f0b2667e75424685628e318911652ff13fb22a3ac50743964b"
   }
  }
 },
 "nbformat": 4,
 "nbformat_minor": 2
}
