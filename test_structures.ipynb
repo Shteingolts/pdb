{
 "cells": [
  {
   "cell_type": "code",
   "execution_count": 4,
   "metadata": {},
   "outputs": [
    {
     "name": "stdout",
     "output_type": "stream",
     "text": [
      "Running on Linux.\n",
      "\n"
     ]
    },
    {
     "data": {
      "text/plain": [
       "<module 'process' from '/home/sergey/pdb/process.py'>"
      ]
     },
     "execution_count": 4,
     "metadata": {},
     "output_type": "execute_result"
    }
   ],
   "source": [
    "import os\n",
    "import Bio\n",
    "from Bio.PDB import PDBParser\n",
    "import nglview\n",
    "import process\n",
    "import pocket_search\n",
    "import importlib\n",
    "importlib.reload(process)"
   ]
  },
  {
   "cell_type": "code",
   "execution_count": 5,
   "metadata": {},
   "outputs": [],
   "source": [
    "desktop = '/mnt/c/users/serge/desktop'\n",
    "with open(os.path.join(desktop, 'test_structs.txt'), 'r') as f:\n",
    "    test_structures = f.read().split()\n",
    "\n",
    "test_structures = [sid.lower() for sid in test_structures]\n",
    "test_structures.remove('2vrv')"
   ]
  },
  {
   "cell_type": "code",
   "execution_count": 6,
   "metadata": {},
   "outputs": [
    {
     "name": "stdout",
     "output_type": "stream",
     "text": [
      "    Ligand H_STR from structure 1a28 was saved to /mnt/c/users/serge/desktop/test_structures/1a28/1a28_H_STR.pdb\n",
      "    Ligand H_MYT from structure 1phg was saved to /mnt/c/users/serge/desktop/test_structures/1phg/1phg_H_MYT.pdb\n",
      "    Ligand H_NDP from structure 2jap was saved to /mnt/c/users/serge/desktop/test_structures/2jap/2jap_H_NDP.pdb\n",
      "    Ligand H_DCF from structure 1a4l was saved to /mnt/c/users/serge/desktop/test_structures/1a4l/1a4l_H_DCF.pdb\n",
      "    Ligand H_2FA from structure 1pk9 was saved to /mnt/c/users/serge/desktop/test_structures/1pk9/1pk9_H_2FA.pdb\n",
      "    Ligand H_ETV from structure 2no6 was saved to /mnt/c/users/serge/desktop/test_structures/2no6/2no6_H_ETV.pdb\n",
      "Structure 1avn has 0 suitable ligands.\n",
      "    Ligand H_MOI from structure 1q0y was saved to /mnt/c/users/serge/desktop/test_structures/1q0y/1q0y_H_MOI.pdb\n",
      "    Ligand H_3TC from structure 2noa was saved to /mnt/c/users/serge/desktop/test_structures/2noa/2noa_H_3TC.pdb\n",
      "Structure 1ax9 has 0 suitable ligands.\n",
      "    Ligand H_OPB from structure 1q7a was saved to /mnt/c/users/serge/desktop/test_structures/1q7a/1q7a_H_OPB.pdb\n",
      "    Ligand H_NNN from structure 2pnc was saved to /mnt/c/users/serge/desktop/test_structures/2pnc/2pnc_H_NNN.pdb\n",
      "    Ligand H_AZM from structure 1azm was saved to /mnt/c/users/serge/desktop/test_structures/1azm/1azm_H_AZM.pdb\n",
      "    Ligand H_CDX from structure 1qzr was saved to /mnt/c/users/serge/desktop/test_structures/1qzr/1qzr_H_CDX.pdb\n",
      "Structure 2q6h has 2 suitable ligands.\n",
      "    Ligand H_CXX from structure 2q6h was saved to /mnt/c/users/serge/desktop/test_structures/2q6h/0_2q6h_H_CXX.pdb\n",
      "    Ligand H_CXX from structure 2q6h was saved to /mnt/c/users/serge/desktop/test_structures/2q6h/1_2q6h_H_CXX.pdb\n",
      "    Ligand H_MZM from structure 1bzm was saved to /mnt/c/users/serge/desktop/test_structures/1bzm/1bzm_H_MZM.pdb\n",
      "    Ligand H_RIS from structure 1rqj was saved to /mnt/c/users/serge/desktop/test_structures/1rqj/1rqj_H_RIS.pdb\n",
      "    Ligand H_TDZ from structure 2qm9 was saved to /mnt/c/users/serge/desktop/test_structures/2qm9/2qm9_H_TDZ.pdb\n",
      "    Ligand H_TCL from structure 1c14 was saved to /mnt/c/users/serge/desktop/test_structures/1c14/1c14_H_TCL.pdb\n",
      "    Ligand H_DES from structure 1s9p was saved to /mnt/c/users/serge/desktop/test_structures/1s9p/1s9p_H_DES.pdb\n",
      "    Ligand H_ML1 from structure 2qwx was saved to /mnt/c/users/serge/desktop/test_structures/2qwx/2qwx_H_ML1.pdb\n",
      "Structure 1cea has 0 suitable ligands.\n",
      "Structure 1tnl has 0 suitable ligands.\n",
      "    Ligand H_ECN from structure 2uvn was saved to /mnt/c/users/serge/desktop/test_structures/2uvn/2uvn_H_ECN.pdb\n",
      "Structure 1ceb has 0 suitable ligands.\n",
      "Structure 1tyl has 0 suitable ligands.\n",
      "    Ligand H_HCY from structure 2v95 was saved to /mnt/c/users/serge/desktop/test_structures/2v95/2v95_H_HCY.pdb\n",
      "    Ligand H_ETS from structure 1cil was saved to /mnt/c/users/serge/desktop/test_structures/1cil/1cil_H_ETS.pdb\n",
      "Structure 1uv6 has 0 suitable ligands.\n",
      "    Ligand H_NPS from structure 2vdb was saved to /mnt/c/users/serge/desktop/test_structures/2vdb/2vdb_H_NPS.pdb\n",
      "Structure 1cqe has 2 suitable ligands.\n",
      "    Ligand H_NN from structure 1cqe was saved to /mnt/c/users/serge/desktop/test_structures/1cqe/0_1cqe_H_NN.pdb\n",
      "    Ligand H_NN from structure 1cqe was saved to /mnt/c/users/serge/desktop/test_structures/1cqe/1_1cqe_H_NN.pdb\n",
      "    Ligand H_2DI from structure 1v3q was saved to /mnt/c/users/serge/desktop/test_structures/1v3q/1v3q_H_2DI.pdb\n",
      "Structure 2vin has 0 suitable ligands.\n",
      "    Ligand H_TOP from structure 1dg5 was saved to /mnt/c/users/serge/desktop/test_structures/1dg5/1dg5_H_TOP.pdb\n",
      "    Ligand H_TAZ from structure 1vm1 was saved to /mnt/c/users/serge/desktop/test_structures/1vm1/1vm1_H_TAZ.pdb\n",
      "    Ligand H_DIF from structure 1dvx was saved to /mnt/c/users/serge/desktop/test_structures/1dvx/1dvx_H_DIF.pdb\n",
      "Structure 1w3r has 0 suitable ligands.\n",
      "    Ligand H_RIV from structure 2w26 was saved to /mnt/c/users/serge/desktop/test_structures/2w26/2w26_H_RIV.pdb\n",
      "    Ligand H_NN from structure 1dx6 was saved to /mnt/c/users/serge/desktop/test_structures/1dx6/1dx6_H_NN.pdb\n",
      "Structure 1x70 has 3 suitable ligands.\n",
      "    Ligand H_NN from structure 1x70 was saved to /mnt/c/users/serge/desktop/test_structures/1x70/0_1x70_H_NN.pdb\n",
      "    Ligand H_NN from structure 1x70 was saved to /mnt/c/users/serge/desktop/test_structures/1x70/1_1x70_H_NN.pdb\n",
      "    Ligand H_NN from structure 1x70 was saved to /mnt/c/users/serge/desktop/test_structures/1x70/2_1x70_H_NN.pdb\n",
      "    Ligand H_BJM from structure 3bjm was saved to /mnt/c/users/serge/desktop/test_structures/3bjm/3bjm_H_BJM.pdb\n",
      "    Ligand H_SNP from structure 1dy4 was saved to /mnt/c/users/serge/desktop/test_structures/1dy4/1dy4_H_SNP.pdb\n",
      "    Ligand H_IPE from structure 1yhm was saved to /mnt/c/users/serge/desktop/test_structures/1yhm/1yhm_H_IPE.pdb\n",
      "    Ligand H_BL1 from structure 3bl1 was saved to /mnt/c/users/serge/desktop/test_structures/3bl1/3bl1_H_BL1.pdb\n",
      "Structure 1e7a has 0 suitable ligands.\n",
      "Structure 1yvm has 0 suitable ligands.\n",
      "Structure 3buf has 0 suitable ligands.\n",
      "    Ligand H_HEM from structure 1eqg was saved to /mnt/c/users/serge/desktop/test_structures/1eqg/1eqg_H_HEM.pdb\n",
      "    Ligand H_FUN from structure 1z9y was saved to /mnt/c/users/serge/desktop/test_structures/1z9y/1z9y_H_FUN.pdb\n",
      "    Ligand H_EZL from structure 3caj was saved to /mnt/c/users/serge/desktop/test_structures/3caj/3caj_H_EZL.pdb\n",
      "    Ligand H_AMR from structure 1f5l was saved to /mnt/c/users/serge/desktop/test_structures/1f5l/1f5l_H_AMR.pdb\n",
      "    Ligand H_ZOL from structure 1zw5 was saved to /mnt/c/users/serge/desktop/test_structures/1zw5/1zw5_H_ZOL.pdb\n",
      "    Ligand H_TMQ from structure 3clb was saved to /mnt/c/users/serge/desktop/test_structures/3clb/3clb_H_TMQ.pdb\n",
      "    Ligand H_NVP from structure 1fkp was saved to /mnt/c/users/serge/desktop/test_structures/1fkp/1fkp_H_NVP.pdb\n",
      "Structure 2a15 has 0 suitable ligands.\n",
      "    Ligand H_GPP from structure 3eor was saved to /mnt/c/users/serge/desktop/test_structures/3eor/3eor_H_GPP.pdb\n",
      "    Ligand H_UMP from structure 1j3j was saved to /mnt/c/users/serge/desktop/test_structures/1j3j/1j3j_H_UMP.pdb\n",
      "    Ligand H_PLP from structure 2a1h was saved to /mnt/c/users/serge/desktop/test_structures/2a1h/2a1h_H_PLP.pdb\n",
      "Structure 3ete has 2 suitable ligands.\n",
      "    Ligand H_H3P from structure 3ete was saved to /mnt/c/users/serge/desktop/test_structures/3ete/0_3ete_H_H3P.pdb\n",
      "    Ligand H_H3P from structure 3ete was saved to /mnt/c/users/serge/desktop/test_structures/3ete/1_3ete_H_H3P.pdb\n",
      "    Ligand H_CYZ from structure 1lbc was saved to /mnt/c/users/serge/desktop/test_structures/1lbc/1lbc_H_CYZ.pdb\n",
      "    Ligand H_PNX from structure 2a3c was saved to /mnt/c/users/serge/desktop/test_structures/2a3c/2a3c_H_PNX.pdb\n",
      "    Ligand H_KLT from structure 3f4x was saved to /mnt/c/users/serge/desktop/test_structures/3f4x/3f4x_H_KLT.pdb\n",
      "    Ligand H_NOG from structure 1lhv was saved to /mnt/c/users/serge/desktop/test_structures/1lhv/1lhv_H_NOG.pdb\n",
      "    Ligand H_A3P from structure 2a3r was saved to /mnt/c/users/serge/desktop/test_structures/2a3r/2a3r_H_A3P.pdb\n",
      "Structure 3f78 has 0 suitable ligands.\n",
      "Structure 1m2z has 2 suitable ligands.\n",
      "    Ligand H_DEX from structure 1m2z was saved to /mnt/c/users/serge/desktop/test_structures/1m2z/0_1m2z_H_DEX.pdb\n",
      "    Ligand H_DEX from structure 1m2z was saved to /mnt/c/users/serge/desktop/test_structures/1m2z/1_1m2z_H_DEX.pdb\n",
      "    Ligand H_CFB from structure 2a7q was saved to /mnt/c/users/serge/desktop/test_structures/2a7q/2a7q_H_CFB.pdb\n",
      "    Ligand H_B49 from structure 3g0e was saved to /mnt/c/users/serge/desktop/test_structures/3g0e/3g0e_H_B49.pdb\n",
      "    Ligand H_TEI from structure 1n5x was saved to /mnt/c/users/serge/desktop/test_structures/1n5x/1n5x_H_TEI.pdb\n",
      "    Ligand H_SNL from structure 2ab2 was saved to /mnt/c/users/serge/desktop/test_structures/2ab2/2ab2_H_SNL.pdb\n",
      "    Ligand H_FIT from structure 3g1r was saved to /mnt/c/users/serge/desktop/test_structures/3g1r/3g1r_H_FIT.pdb\n",
      "Structure 1ndf has 0 suitable ligands.\n",
      "Structure 2ace has 0 suitable ligands.\n",
      "Structure 3gkz has 0 suitable ligands.\n",
      "    Ligand H_486 from structure 1nhz was saved to /mnt/c/users/serge/desktop/test_structures/1nhz/1nhz_H_486.pdb\n",
      "    Ligand H_COX from structure 2aw1 was saved to /mnt/c/users/serge/desktop/test_structures/2aw1/2aw1_H_COX.pdb\n",
      "    Ligand H_SRE from structure 3gwu was saved to /mnt/c/users/serge/desktop/test_structures/3gwu/3gwu_H_SRE.pdb\n",
      "    Ligand H_EPE from structure 1o28 was saved to /mnt/c/users/serge/desktop/test_structures/1o28/1o28_H_EPE.pdb\n",
      "    Ligand H_P1Z from structure 2bxc was saved to /mnt/c/users/serge/desktop/test_structures/2bxc/2bxc_H_P1Z.pdb\n",
      "    Ligand H_RFX from structure 3gwv was saved to /mnt/c/users/serge/desktop/test_structures/3gwv/3gwv_H_RFX.pdb\n",
      "    Ligand H_SWF from structure 1og5 was saved to /mnt/c/users/serge/desktop/test_structures/1og5/1og5_H_SWF.pdb\n",
      "Structure 2bxe has 2 suitable ligands.\n",
      "    Ligand H_1FL from structure 2bxe was saved to /mnt/c/users/serge/desktop/test_structures/2bxe/0_2bxe_H_1FL.pdb\n",
      "    Ligand H_1FL from structure 2bxe was saved to /mnt/c/users/serge/desktop/test_structures/2bxe/1_2bxe_H_1FL.pdb\n",
      "    Ligand H_SAH from structure 3hcd was saved to /mnt/c/users/serge/desktop/test_structures/3hcd/3hcd_H_SAH.pdb\n",
      "    Ligand H_CEL from structure 1oq5 was saved to /mnt/c/users/serge/desktop/test_structures/1oq5/1oq5_H_CEL.pdb\n",
      "    Ligand H_DZP from structure 2bxf was saved to /mnt/c/users/serge/desktop/test_structures/2bxf/2bxf_H_DZP.pdb\n",
      "    Ligand H_TOR from structure 3hku was saved to /mnt/c/users/serge/desktop/test_structures/3hku/3hku_H_TOR.pdb\n",
      "Structure 1oxr has 0 suitable ligands.\n",
      "    Ligand H_5HG from structure 2g1a was saved to /mnt/c/users/serge/desktop/test_structures/2g1a/2g1a_H_5HG.pdb\n",
      "    Ligand H_LLT from structure 3hp1 was saved to /mnt/c/users/serge/desktop/test_structures/3hp1/3hp1_H_LLT.pdb\n",
      "    Ligand H_CPF from structure 1oye was saved to /mnt/c/users/serge/desktop/test_structures/1oye/1oye_H_CPF.pdb\n",
      "Structure 2hkk has 0 suitable ligands.\n",
      "    Ligand H_HCZ from structure 3ijx was saved to /mnt/c/users/serge/desktop/test_structures/3ijx/3ijx_H_HCZ.pdb\n",
      "    Ligand H_HEM from structure 1p2y was saved to /mnt/c/users/serge/desktop/test_structures/1p2y/1p2y_H_HEM.pdb\n",
      "    Ligand H_G39 from structure 2ht8 was saved to /mnt/c/users/serge/desktop/test_structures/2ht8/2ht8_H_G39.pdb\n",
      "    Ligand H_JJJ from structure 2jn3 was saved to /mnt/c/users/serge/desktop/test_structures/2jn3/2jn3_H_JJJ.pdb\n",
      "    Ligand H_ADP from structure 1p5z was saved to /mnt/c/users/serge/desktop/test_structures/1p5z/1p5z_H_ADP.pdb\n",
      "    Ligand H_NAP from structure 2isf was saved to /mnt/c/users/serge/desktop/test_structures/2isf/2isf_H_NAP.pdb\n",
      "    Ligand H_FAD from structure 1pbc was saved to /mnt/c/users/serge/desktop/test_structures/1pbc/1pbc_H_FAD.pdb\n",
      "    Ligand H_NN from structure 2j1g was saved to /mnt/c/users/serge/desktop/test_structures/2j1g/2j1g_H_NN.pdb\n"
     ]
    }
   ],
   "source": [
    "out_dir = os.path.join(desktop, 'test_structures')\n",
    "for structure_id in test_structures:\n",
    "    structure = process.get_structure(structure_id, process.PDB_PATH)\n",
    "    process.extract(structure, out_dir, distance_threshold=1.7, num_atoms=10, mol_weight=200, rmsd=2.0)\n"
   ]
  }
 ],
 "metadata": {
  "kernelspec": {
   "display_name": "Python 3.9.13 ('base')",
   "language": "python",
   "name": "python3"
  },
  "language_info": {
   "codemirror_mode": {
    "name": "ipython",
    "version": 3
   },
   "file_extension": ".py",
   "mimetype": "text/x-python",
   "name": "python",
   "nbconvert_exporter": "python",
   "pygments_lexer": "ipython3",
   "version": "3.9.13"
  },
  "orig_nbformat": 4,
  "vscode": {
   "interpreter": {
    "hash": "990a811f332a85f0b2667e75424685628e318911652ff13fb22a3ac50743964b"
   }
  }
 },
 "nbformat": 4,
 "nbformat_minor": 2
}
