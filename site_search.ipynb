{
 "cells": [
  {
   "cell_type": "code",
   "execution_count": 75,
   "metadata": {},
   "outputs": [
    {
     "name": "stdout",
     "output_type": "stream",
     "text": [
      "Running on Linux.\n",
      "\n"
     ]
    }
   ],
   "source": [
    "import os\n",
    "import importlib\n",
    "import Bio\n",
    "from Bio.PDB import PDBParser\n",
    "import nglview\n",
    "import process\n",
    "importlib.reload(process)\n",
    "DESKTOP = '/mnt/c/users/serge/desktop'\n",
    "PDB_PATH = os.path.join(\"/mnt\", \"c\", \"users\", \"serge\", \"desktop\", \"pdb_download\", \"pdb\")\n"
   ]
  },
  {
   "cell_type": "code",
   "execution_count": 76,
   "metadata": {},
   "outputs": [
    {
     "data": {
      "text/plain": [
       "[<Residue JN3 het=H_JN3 resseq=130 icode= >,\n",
       " <Residue JN3 het=H_JN3 resseq=131 icode= >]"
      ]
     },
     "execution_count": 76,
     "metadata": {},
     "output_type": "execute_result"
    }
   ],
   "source": [
    "original_structure = process.get_structure('2jn3', process.PDB_PATH)\n",
    "hetero_residues = process.get_hetero_residues(original_structure)\n",
    "structure = process.StructureGraph(hetero_residues)\n",
    "structure.create_graph(distance_threshold=1.7)\n",
    "clusters = structure.get_clusters()\n",
    "residues = list()\n",
    "for cluster in clusters:\n",
    "    residues.append(process.combine(cluster))\n",
    "# ligands = process.filter_ligands(residues, num_atoms=15, mol_weight=200, rmsd=2.0)\n",
    "\n",
    "residues"
   ]
  },
  {
   "cell_type": "code",
   "execution_count": 77,
   "metadata": {},
   "outputs": [
    {
     "data": {
      "text/plain": [
       "[<Residue JN3 het=H_JN3 resseq=130 icode= >,\n",
       " <Residue JN3 het=H_JN3 resseq=131 icode= >]"
      ]
     },
     "execution_count": 77,
     "metadata": {},
     "output_type": "execute_result"
    }
   ],
   "source": [
    "filtered_residues: list = []\n",
    "for residue in residues:\n",
    "    if (len(residue.get_list()) > 10 and process.get_molecular_mass(residue) >= 150):\n",
    "        filtered_residues.append(residue)\n",
    "filtered_residues"
   ]
  },
  {
   "cell_type": "code",
   "execution_count": 78,
   "metadata": {},
   "outputs": [
    {
     "data": {
      "text/plain": [
       "[<Residue JN3 het=H_JN3 resseq=131 icode= >]"
      ]
     },
     "execution_count": 78,
     "metadata": {},
     "output_type": "execute_result"
    }
   ],
   "source": [
    "unique_ones = []\n",
    "\n",
    "while filtered_residues:\n",
    "    residue = filtered_residues.pop()\n",
    "    unique_ones.append(residue)\n",
    "    for index, other_residue in enumerate(filtered_residues):\n",
    "        if process.similar_conformation(residue, other_residue, 2.0):\n",
    "            filtered_residues.pop(index)\n",
    "\n",
    "unique_ones"
   ]
  },
  {
   "cell_type": "code",
   "execution_count": 79,
   "metadata": {},
   "outputs": [
    {
     "data": {
      "application/vnd.jupyter.widget-view+json": {
       "model_id": "4fde157302d64d06ba6d2210e1eae2f5",
       "version_major": 2,
       "version_minor": 0
      },
      "text/plain": [
       "NGLWidget()"
      ]
     },
     "metadata": {},
     "output_type": "display_data"
    }
   ],
   "source": [
    "view = nglview.show_biopython(unique_ones[0])\n",
    "view"
   ]
  }
 ],
 "metadata": {
  "kernelspec": {
   "display_name": "Python 3.9.12 ('base')",
   "language": "python",
   "name": "python3"
  },
  "language_info": {
   "codemirror_mode": {
    "name": "ipython",
    "version": 3
   },
   "file_extension": ".py",
   "mimetype": "text/x-python",
   "name": "python",
   "nbconvert_exporter": "python",
   "pygments_lexer": "ipython3",
   "version": "3.9.13"
  },
  "orig_nbformat": 4,
  "vscode": {
   "interpreter": {
    "hash": "990a811f332a85f0b2667e75424685628e318911652ff13fb22a3ac50743964b"
   }
  }
 },
 "nbformat": 4,
 "nbformat_minor": 2
}
