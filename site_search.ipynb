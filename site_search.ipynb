{
 "cells": [
  {
   "cell_type": "markdown",
   "metadata": {},
   "source": [
    "# Things that do not cause problem with coordinates\n",
    "# 1. Opening and saving the structure\n",
    "# 2. Getting hetero_residues\n",
    "# 3. Initializing an instance of StructureGraph class\n",
    "# 4. Creating a graph with .create_graph() method\n",
    "# 5. Getting cluster of closely located residues with get_clusters() method\n",
    "# 6. Combining a cluster into single reidues with combine() function\n",
    "# 7. Filtering according to known criteria (num_atoms, mol_weight)\n",
    "# 8. Creating structure objects from residues with resi_to_struct function\n",
    "# 9. Saving structure object with save_ligand_fo_file() function\n",
    "\n",
    "# so far, was not able to replicate problem"
   ]
  },
  {
   "cell_type": "code",
   "execution_count": 8,
   "metadata": {},
   "outputs": [],
   "source": [
    "import process\n",
    "import pocket_search as ps\n",
    "import nglview\n",
    "import Bio\n",
    "from Bio.PDB import PDBParser\n",
    "import os"
   ]
  },
  {
   "cell_type": "code",
   "execution_count": 9,
   "metadata": {},
   "outputs": [
    {
     "name": "stdout",
     "output_type": "stream",
     "text": [
      "Structure 1rqj was loaded from /mnt/c/users/serge/desktop/pdb_download/pdb/rq/pdb1rqj.ent\n"
     ]
    }
   ],
   "source": [
    "structure = process.get_structure('1rqj', process.PDB_PATH, debug=True) # 14 26"
   ]
  },
  {
   "cell_type": "code",
   "execution_count": 30,
   "metadata": {},
   "outputs": [],
   "source": [
    "from process import resi_to_struct\n",
    "\n",
    "\n",
    "hetero_residues = process.get_hetero_residues(structure)\n",
    "structure_graph = process.StructureGraph(hetero_residues)\n",
    "structure_graph.create_graph(distance_threshhold=1.5)\n",
    "clusters = structure_graph.get_clusters()\n",
    "\n",
    "residues = []\n",
    "for cluster in clusters:\n",
    "    residues.append(process.combine(cluster))\n",
    "\n",
    "ligands = process.filter_ligands(residues)\n",
    "\n",
    "ligand_structures = [resi_to_struct(ligand, structure) for ligand in ligands]\n",
    "\n",
    "process.save_ligand_to_file(ligand_structures, process.OUT_PATH, structure)\n",
    "\n"
   ]
  },
  {
   "cell_type": "code",
   "execution_count": 29,
   "metadata": {},
   "outputs": [
    {
     "data": {
      "application/vnd.jupyter.widget-view+json": {
       "model_id": "50d32e2501994300b547816c01fbdd86",
       "version_major": 2,
       "version_minor": 0
      },
      "text/plain": [
       "NGLWidget()"
      ]
     },
     "metadata": {},
     "output_type": "display_data"
    }
   ],
   "source": [
    "view = nglview.show_biopython(residues[-1])\n",
    "view"
   ]
  },
  {
   "cell_type": "code",
   "execution_count": 6,
   "metadata": {},
   "outputs": [
    {
     "name": "stdout",
     "output_type": "stream",
     "text": [
      "***** POCKET HUNTING BEGINS ***** \n"
     ]
    },
    {
     "name": "stderr",
     "output_type": "stream",
     "text": [
      "mkdir: cannot create directory ‘/mnt/c/users/serge/desktop/2r09/2r09_out/pockets’: File exists\n"
     ]
    },
    {
     "name": "stdout",
     "output_type": "stream",
     "text": [
      "***** POCKET HUNTING ENDS ***** \n",
      "/mnt/c/users/serge/desktop/2r09/2r09_out/2r09_info.txt\n"
     ]
    }
   ],
   "source": [
    "structure_dir = os.path.join(process.OUT_PATH, structure.id)\n",
    "cleaned_pdb = ps.clean_pdb(file, structure_dir)\n",
    "fpocket_dir = ps.fpocket(cleaned_pdb)\n",
    "barycenters = ps.get_centers(fpocket_dir)\n",
    "pockets: list = ps.get_pockets(fpocket_dir, num_pockets_threshold=100)\n",
    "ps.write_bat(cleaned_pdb, fpocket_dir)\n",
    "\n"
   ]
  },
  {
   "cell_type": "code",
   "execution_count": 7,
   "metadata": {},
   "outputs": [
    {
     "name": "stdout",
     "output_type": "stream",
     "text": [
      "d(H_4IP : Pocket(number=43, score=-0.127, center=(77.81276658747174, 85.71096824477024, 26.90205528191459))) = 1.0065443224660982\n",
      "d(H_4IP : Pocket(number=34, score=-0.084, center=(22.02070629678556, 78.02792671573255, -2.33535119833931))) = 1.3021322460175173\n"
     ]
    }
   ],
   "source": [
    "ligand_structures = [ligand1, ligand2]\n",
    "filtered_ligands: list = []\n",
    "for ligand in ligand_structures:\n",
    "    for pocket in pockets:\n",
    "        if process.get_distance_to_pocket(ligand, pocket) < 6:\n",
    "            print(f\"d({ligand.id[0]} : {pocket}) = {process.get_distance_to_pocket(ligand, pocket)}\")\n",
    "\n"
   ]
  }
 ],
 "metadata": {
  "kernelspec": {
   "display_name": "Python 3.9.12 ('base')",
   "language": "python",
   "name": "python3"
  },
  "language_info": {
   "codemirror_mode": {
    "name": "ipython",
    "version": 3
   },
   "file_extension": ".py",
   "mimetype": "text/x-python",
   "name": "python",
   "nbconvert_exporter": "python",
   "pygments_lexer": "ipython3",
   "version": "3.9.13"
  },
  "orig_nbformat": 4,
  "vscode": {
   "interpreter": {
    "hash": "990a811f332a85f0b2667e75424685628e318911652ff13fb22a3ac50743964b"
   }
  }
 },
 "nbformat": 4,
 "nbformat_minor": 2
}
